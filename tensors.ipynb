{
 "cells": [
  {
   "cell_type": "code",
   "execution_count": 1,
   "id": "5f341470",
   "metadata": {
    "execution": {
     "iopub.execute_input": "2025-09-21T09:45:56.271628Z",
     "iopub.status.busy": "2025-09-21T09:45:56.271308Z",
     "iopub.status.idle": "2025-09-21T09:45:56.278934Z",
     "shell.execute_reply": "2025-09-21T09:45:56.278220Z"
    },
    "papermill": {
     "duration": 0.013697,
     "end_time": "2025-09-21T09:45:56.280515",
     "exception": false,
     "start_time": "2025-09-21T09:45:56.266818",
     "status": "completed"
    },
    "tags": []
   },
   "outputs": [],
   "source": [
    "import numpy as np"
   ]
  },
  {
   "cell_type": "markdown",
   "id": "e14dea24",
   "metadata": {
    "papermill": {
     "duration": 0.002475,
     "end_time": "2025-09-21T09:45:56.286307",
     "exception": false,
     "start_time": "2025-09-21T09:45:56.283832",
     "status": "completed"
    },
    "tags": []
   },
   "source": [
    "Tensors are nothing but a data structure which just store the numbers, It is like a common name for making all dimension\n",
    "Scalar,Vectors,Matrices,multi-dimensional matrices are all part of Tensors, It is mostly used when we have to represent and do anything on large datasets, images, videos, etc.."
   ]
  },
  {
   "cell_type": "markdown",
   "id": "938f8b8e",
   "metadata": {
    "papermill": {
     "duration": 0.002391,
     "end_time": "2025-09-21T09:45:56.291475",
     "exception": false,
     "start_time": "2025-09-21T09:45:56.289084",
     "status": "completed"
    },
    "tags": []
   },
   "source": [
    "0D Tensors or Scalars"
   ]
  },
  {
   "cell_type": "code",
   "execution_count": 2,
   "id": "fcac099a",
   "metadata": {
    "execution": {
     "iopub.execute_input": "2025-09-21T09:45:56.298638Z",
     "iopub.status.busy": "2025-09-21T09:45:56.297543Z",
     "iopub.status.idle": "2025-09-21T09:45:56.303394Z",
     "shell.execute_reply": "2025-09-21T09:45:56.302433Z"
    },
    "papermill": {
     "duration": 0.010883,
     "end_time": "2025-09-21T09:45:56.304943",
     "exception": false,
     "start_time": "2025-09-21T09:45:56.294060",
     "status": "completed"
    },
    "tags": []
   },
   "outputs": [
    {
     "name": "stdout",
     "output_type": "stream",
     "text": [
      "4\n",
      "Dimension of a:  0\n"
     ]
    }
   ],
   "source": [
    "a=np.array(4)\n",
    "print(a)\n",
    "print(\"Dimension of a: \",a.ndim)"
   ]
  },
  {
   "cell_type": "markdown",
   "id": "9a667f94",
   "metadata": {
    "papermill": {
     "duration": 0.00256,
     "end_time": "2025-09-21T09:45:56.310483",
     "exception": false,
     "start_time": "2025-09-21T09:45:56.307923",
     "status": "completed"
    },
    "tags": []
   },
   "source": [
    "1D Tensors or Vectors"
   ]
  },
  {
   "cell_type": "code",
   "execution_count": 3,
   "id": "48278a98",
   "metadata": {
    "execution": {
     "iopub.execute_input": "2025-09-21T09:45:56.316873Z",
     "iopub.status.busy": "2025-09-21T09:45:56.316541Z",
     "iopub.status.idle": "2025-09-21T09:45:56.323542Z",
     "shell.execute_reply": "2025-09-21T09:45:56.322561Z"
    },
    "papermill": {
     "duration": 0.011714,
     "end_time": "2025-09-21T09:45:56.324791",
     "exception": false,
     "start_time": "2025-09-21T09:45:56.313077",
     "status": "completed"
    },
    "tags": []
   },
   "outputs": [
    {
     "name": "stdout",
     "output_type": "stream",
     "text": [
      "[1 2 3 4 5]\n",
      "Dimension of a:  1\n"
     ]
    }
   ],
   "source": [
    "a=np.array([1,2,3,4,5])\n",
    "print(a)\n",
    "print(\"Dimension of a: \",a.ndim)"
   ]
  },
  {
   "cell_type": "markdown",
   "id": "11a8d4c6",
   "metadata": {
    "papermill": {
     "duration": 0.002505,
     "end_time": "2025-09-21T09:45:56.330247",
     "exception": false,
     "start_time": "2025-09-21T09:45:56.327742",
     "status": "completed"
    },
    "tags": []
   },
   "source": []
  },
  {
   "cell_type": "markdown",
   "id": "6900c12f",
   "metadata": {
    "papermill": {
     "duration": 0.002393,
     "end_time": "2025-09-21T09:45:56.335273",
     "exception": false,
     "start_time": "2025-09-21T09:45:56.332880",
     "status": "completed"
    },
    "tags": []
   },
   "source": [
    "2D Tensors or Matrices"
   ]
  },
  {
   "cell_type": "code",
   "execution_count": 4,
   "id": "75bcf706",
   "metadata": {
    "execution": {
     "iopub.execute_input": "2025-09-21T09:45:56.341735Z",
     "iopub.status.busy": "2025-09-21T09:45:56.341422Z",
     "iopub.status.idle": "2025-09-21T09:45:56.346795Z",
     "shell.execute_reply": "2025-09-21T09:45:56.345698Z"
    },
    "papermill": {
     "duration": 0.010254,
     "end_time": "2025-09-21T09:45:56.348082",
     "exception": false,
     "start_time": "2025-09-21T09:45:56.337828",
     "status": "completed"
    },
    "tags": []
   },
   "outputs": [
    {
     "name": "stdout",
     "output_type": "stream",
     "text": [
      "[[1 2]\n",
      " [3 4]]\n",
      "Dimension(or Rank or Axis) of a:  2\n"
     ]
    }
   ],
   "source": [
    "a=np.array([[1,2],[3,4]])\n",
    "print(a)\n",
    "print(\"Dimension(or Rank or Axis) of a: \",a.ndim)"
   ]
  },
  {
   "cell_type": "markdown",
   "id": "edc20f14",
   "metadata": {
    "papermill": {
     "duration": 0.002518,
     "end_time": "2025-09-21T09:45:56.353393",
     "exception": false,
     "start_time": "2025-09-21T09:45:56.350875",
     "status": "completed"
    },
    "tags": []
   },
   "source": [
    "ND Tensors> "
   ]
  },
  {
   "cell_type": "code",
   "execution_count": 5,
   "id": "acb64fec",
   "metadata": {
    "execution": {
     "iopub.execute_input": "2025-09-21T09:45:56.360023Z",
     "iopub.status.busy": "2025-09-21T09:45:56.359726Z",
     "iopub.status.idle": "2025-09-21T09:45:56.365459Z",
     "shell.execute_reply": "2025-09-21T09:45:56.364510Z"
    },
    "papermill": {
     "duration": 0.010725,
     "end_time": "2025-09-21T09:45:56.366758",
     "exception": false,
     "start_time": "2025-09-21T09:45:56.356033",
     "status": "completed"
    },
    "tags": []
   },
   "outputs": [
    {
     "name": "stdout",
     "output_type": "stream",
     "text": [
      "[[[ 1  2  3]\n",
      "  [ 4  5  6]]\n",
      "\n",
      " [[ 7  8  9]\n",
      "  [10 11 12]]]\n",
      "Dimension of arr3:  3\n"
     ]
    }
   ],
   "source": [
    "arr3=np.array([[[1,2,3],[4,5,6]],[[7,8,9],[10,11,12]]])\n",
    "print(arr3)\n",
    "print(\"Dimension of arr3: \",arr3.ndim)"
   ]
  },
  {
   "cell_type": "code",
   "execution_count": 6,
   "id": "68fcbd80",
   "metadata": {
    "execution": {
     "iopub.execute_input": "2025-09-21T09:45:56.373526Z",
     "iopub.status.busy": "2025-09-21T09:45:56.373239Z",
     "iopub.status.idle": "2025-09-21T09:45:56.379727Z",
     "shell.execute_reply": "2025-09-21T09:45:56.378880Z"
    },
    "papermill": {
     "duration": 0.011466,
     "end_time": "2025-09-21T09:45:56.381102",
     "exception": false,
     "start_time": "2025-09-21T09:45:56.369636",
     "status": "completed"
    },
    "tags": []
   },
   "outputs": [
    {
     "name": "stdout",
     "output_type": "stream",
     "text": [
      "[[[[ 1  2  3]\n",
      "   [ 4  5  6]]\n",
      "\n",
      "  [[ 7  8  9]\n",
      "   [10 11 12]]]\n",
      "\n",
      "\n",
      " [[[13 14 15]\n",
      "   [16 17 18]]\n",
      "\n",
      "  [[19 20 21]\n",
      "   [22 23 24]]]]\n",
      "Dimension of arr4:  4\n"
     ]
    }
   ],
   "source": [
    "arr4=np.array([[[[1,2,3],[4,5,6]],[[7,8,9],[10,11,12]]],[[[13,14,15],[16,17,18]],[[19,20,21],[22,23,24]]]])\n",
    "print(arr4)\n",
    "print(\"Dimension of arr4: \",arr4.ndim)"
   ]
  },
  {
   "cell_type": "code",
   "execution_count": 7,
   "id": "8d54d9dd",
   "metadata": {
    "execution": {
     "iopub.execute_input": "2025-09-21T09:45:56.388192Z",
     "iopub.status.busy": "2025-09-21T09:45:56.387906Z",
     "iopub.status.idle": "2025-09-21T09:45:56.394789Z",
     "shell.execute_reply": "2025-09-21T09:45:56.393760Z"
    },
    "papermill": {
     "duration": 0.012011,
     "end_time": "2025-09-21T09:45:56.396176",
     "exception": false,
     "start_time": "2025-09-21T09:45:56.384165",
     "status": "completed"
    },
    "tags": []
   },
   "outputs": [
    {
     "name": "stdout",
     "output_type": "stream",
     "text": [
      "[[[[[ 1  2  3]\n",
      "    [ 4  5  6]]\n",
      "\n",
      "   [[ 7  8  9]\n",
      "    [10 11 12]]]\n",
      "\n",
      "\n",
      "  [[[13 14 15]\n",
      "    [16 17 18]]\n",
      "\n",
      "   [[19 20 21]\n",
      "    [22 23 24]]]]\n",
      "\n",
      "\n",
      "\n",
      " [[[[25 26 27]\n",
      "    [28 29 30]]\n",
      "\n",
      "   [[31 32 33]\n",
      "    [34 35 36]]]\n",
      "\n",
      "\n",
      "  [[[37 38 39]\n",
      "    [40 41 42]]\n",
      "\n",
      "   [[43 44 45]\n",
      "    [46 47 48]]]]]\n",
      "Dimension of arr5:  5\n"
     ]
    }
   ],
   "source": [
    "arr5=np.array([[[[[1,2,3],[4,5,6]],[[7,8,9],[10,11,12]]],[[[13,14,15],[16,17,18]],[[19,20,21],[22,23,24]]]],[[[[25,26,27],[28,29,30]],[[31,32,33],[34,35,36]]],[[[37,38,39],[40,41,42]],[[43,44,45],[46,47,48]]]]])\n",
    "print(arr5)\n",
    "print(\"Dimension of arr5: \",arr5.ndim)"
   ]
  },
  {
   "cell_type": "code",
   "execution_count": 8,
   "id": "0d9614c1",
   "metadata": {
    "execution": {
     "iopub.execute_input": "2025-09-21T09:45:56.404346Z",
     "iopub.status.busy": "2025-09-21T09:45:56.404036Z",
     "iopub.status.idle": "2025-09-21T09:45:56.411641Z",
     "shell.execute_reply": "2025-09-21T09:45:56.410737Z"
    },
    "papermill": {
     "duration": 0.013951,
     "end_time": "2025-09-21T09:45:56.413107",
     "exception": false,
     "start_time": "2025-09-21T09:45:56.399156",
     "status": "completed"
    },
    "tags": []
   },
   "outputs": [
    {
     "name": "stdout",
     "output_type": "stream",
     "text": [
      "[[1 2]\n",
      " [3 4]]\n",
      "(2, 2)\n",
      "4\n",
      "5.477225575051661\n"
     ]
    }
   ],
   "source": [
    "print(a)\n",
    "print(a.shape)\n",
    "print(a.size)\n",
    "print(np.linalg.norm(a))"
   ]
  }
 ],
 "metadata": {
  "kaggle": {
   "accelerator": "none",
   "dataSources": [],
   "dockerImageVersionId": 31089,
   "isGpuEnabled": false,
   "isInternetEnabled": true,
   "language": "python",
   "sourceType": "notebook"
  },
  "kernelspec": {
   "display_name": "Python 3",
   "language": "python",
   "name": "python3"
  },
  "language_info": {
   "codemirror_mode": {
    "name": "ipython",
    "version": 3
   },
   "file_extension": ".py",
   "mimetype": "text/x-python",
   "name": "python",
   "nbconvert_exporter": "python",
   "pygments_lexer": "ipython3",
   "version": "3.11.13"
  },
  "papermill": {
   "default_parameters": {},
   "duration": 6.095288,
   "end_time": "2025-09-21T09:45:56.835580",
   "environment_variables": {},
   "exception": null,
   "input_path": "__notebook__.ipynb",
   "output_path": "__notebook__.ipynb",
   "parameters": {},
   "start_time": "2025-09-21T09:45:50.740292",
   "version": "2.6.0"
  }
 },
 "nbformat": 4,
 "nbformat_minor": 5
}
